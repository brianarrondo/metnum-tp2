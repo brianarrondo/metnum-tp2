{
 "cells": [
  {
   "cell_type": "markdown",
   "metadata": {},
   "source": [
    "# Experimentación 1"
   ]
  },
  {
   "cell_type": "markdown",
   "metadata": {},
   "source": [
    "Analizar la calidad de los resultados obtenidos al combinar kNN con y sin PCA, para\n",
    "un rango amplio de combinaciones de valores de k y α. Llamamos k a la cantidad de\n",
    "vecinos a considerar en el algoritmo kNN y α a la cantidad de componentes principales\n",
    "a tomar."
   ]
  },
  {
   "cell_type": "code",
   "execution_count": 1,
   "metadata": {},
   "outputs": [],
   "source": [
    "%load_ext autoreload\n",
    "%autoreload 2\n",
    "import pandas as pd\n",
    "import numpy as np\n",
    "import matplotlib.pyplot as plt\n",
    "import seaborn as sns\n",
    "import metnum\n",
    "from sklearn.metrics import accuracy_score\n",
    "from time import time\n",
    "\n",
    "df_train = pd.read_csv(\"../data/train.csv\")"
   ]
  },
  {
   "cell_type": "code",
   "execution_count": 2,
   "metadata": {},
   "outputs": [],
   "source": [
    "# Reduzco data set\n",
    "df_train = df_train[:1000]"
   ]
  },
  {
   "cell_type": "markdown",
   "metadata": {},
   "source": [
    "En el primer caracter está el dígito a reconocer. Llamamos a esto y_train"
   ]
  },
  {
   "cell_type": "code",
   "execution_count": 3,
   "metadata": {},
   "outputs": [
    {
     "data": {
      "text/plain": [
       "((1000, 784), (1000, 1))"
      ]
     },
     "execution_count": 3,
     "metadata": {},
     "output_type": "execute_result"
    }
   ],
   "source": [
    "# Uso values para mandar todo a arrays de numpy\n",
    "X = df_train[df_train.columns[1:]].values\n",
    "y = df_train[\"label\"].values.reshape(-1, 1)\n",
    "\n",
    "X.shape, y.shape"
   ]
  },
  {
   "cell_type": "markdown",
   "metadata": {},
   "source": [
    "## K-Fold Cross-Validation"
   ]
  },
  {
   "cell_type": "code",
   "execution_count": 4,
   "metadata": {},
   "outputs": [],
   "source": [
    "def splitTrainSet(X, y, K, i):\n",
    "    size = int(X.shape[0] * 1/K)\n",
    "    X_train1, y_train1 = X[:i * size], y[:i * size]\n",
    "    X_val, y_val = X[i * size:(i + 1) * size], y[i * size:(i + 1) * size]\n",
    "    X_train2, y_train2 = X[(i + 1) * size:], y[(i + 1) * size:]\n",
    "    \n",
    "    X_train, y_train = np.concatenate((X_train1, X_train2)), np.concatenate((y_train1, y_train2))\n",
    "    \n",
    "    return X_train, y_train, X_val, y_val"
   ]
  },
  {
   "cell_type": "code",
   "execution_count": 5,
   "metadata": {},
   "outputs": [],
   "source": [
    "def KFold(X, y, K, classifier):\n",
    "    \n",
    "    accuracy = []\n",
    "    total_time = []\n",
    "    pred_time = []\n",
    "    \n",
    "    for i in range(0, K):\n",
    "        X_train, y_train, X_val, y_val = splitTrainSet(X, y, K, i)\n",
    "\n",
    "        init_time = time() \n",
    "        \n",
    "        y_pred, pt = classifier(X_train, y_train, X_val)\n",
    "        \n",
    "        end_time = time() \n",
    "\n",
    "        acc = accuracy_score(y_val, y_pred)\n",
    "        rt = end_time - init_time\n",
    "\n",
    "        accuracy.append(acc)\n",
    "        total_time.append(rt)\n",
    "        pred_time.append(pt)\n",
    "\n",
    "    accuracy = np.mean(accuracy)\n",
    "    total_time = np.mean(total_time)\n",
    "    pred_time = np.mean(pred_time)\n",
    "\n",
    "    return accuracy, total_time, pred_time"
   ]
  },
  {
   "cell_type": "markdown",
   "metadata": {},
   "source": [
    "## Classifiers Dynamics"
   ]
  },
  {
   "cell_type": "code",
   "execution_count": 6,
   "metadata": {},
   "outputs": [],
   "source": [
    "def classifierKNNDynamic(neighbors):\n",
    "    def classifierKNN(X_train, y_train, X_val):\n",
    "        clf = metnum.KNNClassifier(neighbors)\n",
    "        \n",
    "        clf.fit(X_train, y_train)\n",
    "        \n",
    "        init_time = time()\n",
    "        y_pred = clf.predict(X_val)\n",
    "        end_time = time()\n",
    "        \n",
    "        pred_time = end_time - init_time\n",
    "        \n",
    "        return y_pred, pred_time\n",
    "    \n",
    "    return classifierKNN"
   ]
  },
  {
   "cell_type": "code",
   "execution_count": 7,
   "metadata": {},
   "outputs": [],
   "source": [
    "def classifierPCADynamic(neighbors, components):\n",
    "    def classifierPCA(X_train, y_train, X_val):\n",
    "        clf = metnum.KNNClassifier(neighbors)\n",
    "        pca = metnum.PCA(components)\n",
    "        \n",
    "        pca.fit(X_train)\n",
    "        X_train_transformed = pca.transform(X_train)\n",
    "        clf.fit(X_train_transformed, y_train)\n",
    "        X_val_transformed = pca.transform(X_val)\n",
    "        \n",
    "        init_time = time()\n",
    "        y_pred = clf.predict(X_val_transformed)\n",
    "        end_time = time()\n",
    "        \n",
    "        pred_time = end_time - init_time\n",
    "        \n",
    "        return y_pred, pred_time\n",
    "    \n",
    "    return classifierPCA"
   ]
  },
  {
   "cell_type": "markdown",
   "metadata": {},
   "source": [
    "## Test 1: Knn variando la cantidad de vecinos"
   ]
  },
  {
   "cell_type": "code",
   "execution_count": 8,
   "metadata": {},
   "outputs": [],
   "source": [
    "neighbors_range = list(range(1, 30))"
   ]
  },
  {
   "cell_type": "code",
   "execution_count": 9,
   "metadata": {},
   "outputs": [
    {
     "name": "stdout",
     "output_type": "stream",
     "text": [
      "Neighbors: 1\n",
      "Neighbors: 2\n",
      "Neighbors: 3\n",
      "Neighbors: 4\n",
      "Neighbors: 5\n",
      "Neighbors: 6\n",
      "Neighbors: 7\n",
      "Neighbors: 8\n",
      "Neighbors: 9\n",
      "Neighbors: 10\n",
      "Neighbors: 11\n",
      "Neighbors: 12\n",
      "Neighbors: 13\n",
      "Neighbors: 14\n",
      "Neighbors: 15\n",
      "Neighbors: 16\n",
      "Neighbors: 17\n",
      "Neighbors: 18\n",
      "Neighbors: 19\n",
      "Neighbors: 20\n",
      "Neighbors: 21\n",
      "Neighbors: 22\n",
      "Neighbors: 23\n",
      "Neighbors: 24\n",
      "Neighbors: 25\n",
      "Neighbors: 26\n",
      "Neighbors: 27\n",
      "Neighbors: 28\n",
      "Neighbors: 29\n",
      "CPU times: user 10.6 s, sys: 203 ms, total: 10.8 s\n",
      "Wall time: 10.9 s\n"
     ]
    }
   ],
   "source": [
    "%%time\n",
    "\n",
    "accuracy = []\n",
    "total_time = []\n",
    "pred_time = []\n",
    "\n",
    "for i in neighbors_range:\n",
    "    K = 10\n",
    "    neighbors = i\n",
    "    \n",
    "    print(\"Neighbors: {}\".format(i))\n",
    "    acc, tt, pt = KFold(X, y, K, classifierKNNDynamic(i))\n",
    "    \n",
    "    accuracy.append(acc)\n",
    "    total_time.append(tt)\n",
    "    pred_time.append(pt)"
   ]
  },
  {
   "cell_type": "code",
   "execution_count": 10,
   "metadata": {},
   "outputs": [],
   "source": [
    "data = pd.DataFrame({\n",
    "    'Neighbors': neighbors_range, \n",
    "    'Accuracy': accuracy,\n",
    "    'Total time': total_time,\n",
    "    'Pred time': pred_time,\n",
    "    'Method': 'KNN'\n",
    "})\n",
    "\n",
    "data.to_csv('tests_csv/test1.csv', index=False)"
   ]
  },
  {
   "cell_type": "markdown",
   "metadata": {},
   "source": [
    "## Test 2: PCA + KNN variando la cantidad de componentes principales"
   ]
  },
  {
   "cell_type": "code",
   "execution_count": 11,
   "metadata": {},
   "outputs": [],
   "source": [
    "components_range = list(range(1, 30))"
   ]
  },
  {
   "cell_type": "code",
   "execution_count": 12,
   "metadata": {},
   "outputs": [
    {
     "name": "stdout",
     "output_type": "stream",
     "text": [
      "Components: 1\n",
      "Components: 2\n",
      "Components: 3\n",
      "Components: 4\n",
      "Components: 5\n",
      "Components: 6\n",
      "Components: 7\n",
      "Components: 8\n",
      "Components: 9\n",
      "Components: 10\n",
      "Components: 11\n",
      "Components: 12\n",
      "Components: 13\n",
      "Components: 14\n",
      "Components: 15\n",
      "Components: 16\n",
      "Components: 17\n",
      "Components: 18\n",
      "Components: 19\n",
      "Components: 20\n",
      "Components: 21\n",
      "Components: 22\n",
      "Components: 23\n",
      "Components: 24\n",
      "Components: 25\n",
      "Components: 26\n",
      "Components: 27\n",
      "Components: 28\n",
      "Components: 29\n",
      "CPU times: user 2min 42s, sys: 816 ms, total: 2min 43s\n",
      "Wall time: 2min 43s\n"
     ]
    }
   ],
   "source": [
    "%%time\n",
    "\n",
    "accuracy = []\n",
    "total_time = []\n",
    "pred_time = []\n",
    "\n",
    "for i in components_range:\n",
    "    K = 10\n",
    "    neighbors = 5\n",
    "    components = i\n",
    "    \n",
    "    print(\"Components: {}\".format(components))\n",
    "    \n",
    "    acc, tt, pt = KFold(X, y, K, classifierPCADynamic(neighbors, components))\n",
    "    \n",
    "    accuracy.append(acc)\n",
    "    total_time.append(tt)\n",
    "    pred_time.append(pt)"
   ]
  },
  {
   "cell_type": "code",
   "execution_count": 13,
   "metadata": {},
   "outputs": [],
   "source": [
    "data = pd.DataFrame({\n",
    "    'Components': components_range, \n",
    "    'Accuracy': accuracy,\n",
    "    'Total time': total_time,\n",
    "    'Pred time': pred_time,\n",
    "    'Method': 'PCA + KNN'\n",
    "})\n",
    "\n",
    "data.to_csv('tests_csv/test2.csv', index=False)"
   ]
  },
  {
   "cell_type": "markdown",
   "metadata": {},
   "source": [
    "## Test 3: Comparacion de accuracy y time"
   ]
  },
  {
   "cell_type": "code",
   "execution_count": 14,
   "metadata": {},
   "outputs": [],
   "source": [
    "K_range = list(range(3, 20))"
   ]
  },
  {
   "cell_type": "code",
   "execution_count": 15,
   "metadata": {},
   "outputs": [
    {
     "name": "stdout",
     "output_type": "stream",
     "text": [
      "K knn: 3\n",
      "K knn: 4\n",
      "K knn: 5\n",
      "K knn: 6\n",
      "K knn: 7\n",
      "K knn: 8\n",
      "K knn: 9\n",
      "K knn: 10\n",
      "K knn: 11\n",
      "K knn: 12\n",
      "K knn: 13\n",
      "K knn: 14\n",
      "K knn: 15\n",
      "K knn: 16\n",
      "K knn: 17\n",
      "K knn: 18\n",
      "K knn: 19\n",
      "CPU times: user 6.06 s, sys: 233 ms, total: 6.3 s\n",
      "Wall time: 6.29 s\n"
     ]
    }
   ],
   "source": [
    "%%time\n",
    "\n",
    "knn_accuracy = []\n",
    "knn_total_time = []\n",
    "knn_pred_time = []\n",
    "\n",
    "for i in K_range:\n",
    "    K = i\n",
    "    neighbors = 5\n",
    "    components = 15\n",
    "    \n",
    "    print(\"K knn: {}\".format(K))\n",
    "    \n",
    "    acc, tt, pt = KFold(X, y, K, classifierKNNDynamic(neighbors))\n",
    "    \n",
    "    knn_accuracy.append(acc)\n",
    "    knn_total_time.append(tt)\n",
    "    knn_pred_time.append(pt)"
   ]
  },
  {
   "cell_type": "code",
   "execution_count": 16,
   "metadata": {},
   "outputs": [
    {
     "name": "stdout",
     "output_type": "stream",
     "text": [
      "K knn + pca: 3\n",
      "K knn + pca: 4\n",
      "K knn + pca: 5\n",
      "K knn + pca: 6\n",
      "K knn + pca: 7\n",
      "K knn + pca: 8\n",
      "K knn + pca: 9\n",
      "K knn + pca: 10\n",
      "K knn + pca: 11\n",
      "K knn + pca: 12\n",
      "K knn + pca: 13\n",
      "K knn + pca: 14\n",
      "K knn + pca: 15\n",
      "K knn + pca: 16\n",
      "K knn + pca: 17\n",
      "K knn + pca: 18\n",
      "K knn + pca: 19\n",
      "CPU times: user 1min 29s, sys: 563 ms, total: 1min 29s\n",
      "Wall time: 1min 30s\n"
     ]
    }
   ],
   "source": [
    "%%time\n",
    "\n",
    "pca_accuracy = []\n",
    "pca_total_time = []\n",
    "pca_pred_time = []\n",
    "\n",
    "for i in K_range:\n",
    "    K = i\n",
    "    neighbors = 5\n",
    "    components = 15\n",
    "    \n",
    "    print(\"K knn + pca: {}\".format(K))\n",
    "    \n",
    "    acc, tt, pt = KFold(X, y, K, classifierPCADynamic(neighbors, components))\n",
    "    \n",
    "    pca_accuracy.append(acc)\n",
    "    pca_total_time.append(tt)\n",
    "    pca_pred_time.append(pt)"
   ]
  },
  {
   "cell_type": "code",
   "execution_count": 17,
   "metadata": {},
   "outputs": [],
   "source": [
    "dataKNN = pd.DataFrame({\n",
    "    'K': K_range, \n",
    "    'Accuracy': knn_accuracy,\n",
    "    'Total Time': knn_total_time,\n",
    "    'Pred Time': knn_pred_time,\n",
    "    'Method': 'KNN'\n",
    "})\n",
    "\n",
    "dataPCA = pd.DataFrame({\n",
    "    'K': K_range, \n",
    "    'Accuracy': pca_accuracy,\n",
    "    'Total Time': pca_total_time,\n",
    "    'Pred Time': pca_pred_time,\n",
    "    'Method': 'KNN + PCA'\n",
    "})\n",
    "\n",
    "data = pd.concat([dataKNN, dataPCA])\n",
    "\n",
    "data.to_csv('tests_csv/test3.csv', index=False)"
   ]
  },
  {
   "cell_type": "code",
   "execution_count": null,
   "metadata": {},
   "outputs": [],
   "source": []
  }
 ],
 "metadata": {
  "kernelspec": {
   "display_name": "Python 3",
   "language": "python",
   "name": "python3"
  },
  "language_info": {
   "codemirror_mode": {
    "name": "ipython",
    "version": 3
   },
   "file_extension": ".py",
   "mimetype": "text/x-python",
   "name": "python",
   "nbconvert_exporter": "python",
   "pygments_lexer": "ipython3",
   "version": "3.7.7"
  }
 },
 "nbformat": 4,
 "nbformat_minor": 4
}
