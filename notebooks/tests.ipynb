{
 "cells": [
  {
   "cell_type": "markdown",
   "metadata": {},
   "source": [
    "# Experimentación"
   ]
  },
  {
   "cell_type": "code",
   "execution_count": null,
   "metadata": {},
   "outputs": [],
   "source": [
    "%load_ext autoreload\n",
    "%autoreload 2\n",
    "import pandas as pd\n",
    "import numpy as np\n",
    "import matplotlib.pyplot as plt\n",
    "import seaborn as sns\n",
    "import metnum\n",
    "from sklearn.metrics import accuracy_score\n",
    "from sklearn.metrics import cohen_kappa_score\n",
    "from time import time\n",
    "\n",
    "df_train = pd.read_csv(\"../data/train.csv\")"
   ]
  },
  {
   "cell_type": "code",
   "execution_count": null,
   "metadata": {},
   "outputs": [],
   "source": [
    "# Reduzco data set\n",
    "#df_train = df_train[:10000]"
   ]
  },
  {
   "cell_type": "markdown",
   "metadata": {},
   "source": [
    "En el primer caracter está el dígito a reconocer. Llamamos a esto y_train"
   ]
  },
  {
   "cell_type": "code",
   "execution_count": null,
   "metadata": {},
   "outputs": [],
   "source": [
    "# Uso values para mandar todo a arrays de numpy\n",
    "X = df_train[df_train.columns[1:]].values\n",
    "y = df_train[\"label\"].values.reshape(-1, 1)\n",
    "\n",
    "X.shape, y.shape"
   ]
  },
  {
   "cell_type": "markdown",
   "metadata": {},
   "source": [
    "## K-Fold Cross-Validation"
   ]
  },
  {
   "cell_type": "code",
   "execution_count": null,
   "metadata": {},
   "outputs": [],
   "source": [
    "def splitTrainSet(X, y, K, i):\n",
    "    size = int(X.shape[0] * 1/K)\n",
    "    X_train1, y_train1 = X[:i * size], y[:i * size]\n",
    "    X_val, y_val = X[i * size:(i + 1) * size], y[i * size:(i + 1) * size]\n",
    "    X_train2, y_train2 = X[(i + 1) * size:], y[(i + 1) * size:]\n",
    "    \n",
    "    X_train, y_train = np.concatenate((X_train1, X_train2)), np.concatenate((y_train1, y_train2))\n",
    "    \n",
    "    return X_train, y_train, X_val, y_val"
   ]
  },
  {
   "cell_type": "code",
   "execution_count": null,
   "metadata": {},
   "outputs": [],
   "source": [
    "def KFold(X, y, K, classifier):\n",
    "    \n",
    "    accuracy = []\n",
    "    pred_time = []\n",
    "    fit_time = []\n",
    "    \n",
    "    for i in range(0, K):\n",
    "        X_train, y_train, X_val, y_val = splitTrainSet(X, y, K, i)\n",
    "        \n",
    "        y_pred, pt, ft = classifier(X_train, y_train, X_val)\n",
    "        \n",
    "        acc = accuracy_score(y_val, y_pred)\n",
    "\n",
    "        accuracy.append(acc)\n",
    "        pred_time.append(pt)\n",
    "        fit_time.append(ft)\n",
    "\n",
    "    accuracy = np.mean(accuracy)\n",
    "    pred_time = np.mean(pred_time)\n",
    "    fit_time = np.mean(fit_time)\n",
    "\n",
    "    return accuracy, pred_time, fit_time"
   ]
  },
  {
   "cell_type": "code",
   "execution_count": null,
   "metadata": {},
   "outputs": [],
   "source": [
    "def KFoldCohenKappa(X, y, K, classifier1, classifier2):\n",
    "    \n",
    "    cohen_kappa = []\n",
    "    \n",
    "    for i in range(0, K):\n",
    "        X_train, y_train, X_val, y_val = splitTrainSet(X, y, K, i)\n",
    "        \n",
    "        y_pred1 = classifier1(X_train, y_train, X_val)\n",
    "        y_pred2 = classifier2(X_train, y_train, X_val)\n",
    "        \n",
    "        cp = cohen_kappa_score(y_pred1[0], y_pred2[0])\n",
    "\n",
    "        cohen_kappa.append(cp)\n",
    "\n",
    "    cohen_kappa = np.mean(cohen_kappa)\n",
    "\n",
    "    return cohen_kappa"
   ]
  },
  {
   "cell_type": "markdown",
   "metadata": {},
   "source": [
    "## Classifiers Dynamics"
   ]
  },
  {
   "cell_type": "code",
   "execution_count": null,
   "metadata": {},
   "outputs": [],
   "source": [
    "def classifierKNNDynamic(neighbors):\n",
    "    def classifierKNN(X_train, y_train, X_val):\n",
    "        clf = metnum.KNNClassifier(neighbors)\n",
    "        \n",
    "        init_fit_time = time()\n",
    "        clf.fit(X_train, y_train)\n",
    "        end_fit_time = time()\n",
    "        \n",
    "        fit_time = end_fit_time - init_fit_time\n",
    "        \n",
    "        init_pred_time = time()\n",
    "        y_pred = clf.predict(X_val)\n",
    "        end_pred_time = time()\n",
    "        \n",
    "        pred_time = (end_pred_time - init_pred_time) / len(X_val)\n",
    "        \n",
    "        return y_pred, pred_time, fit_time\n",
    "    \n",
    "    return classifierKNN"
   ]
  },
  {
   "cell_type": "code",
   "execution_count": null,
   "metadata": {},
   "outputs": [],
   "source": [
    "def classifierPCADynamic(neighbors, components):\n",
    "    def classifierPCA(X_train, y_train, X_val):\n",
    "        clf = metnum.KNNClassifier(neighbors)\n",
    "        pca = metnum.PCA(components)\n",
    "        \n",
    "        init_fit_time = time()\n",
    "        pca.fit(X_train)\n",
    "        X_train_transformed = pca.transform(X_train)\n",
    "        clf.fit(X_train_transformed, y_train)\n",
    "        end_fit_time = time()\n",
    "        \n",
    "        fit_time = end_fit_time - init_fit_time\n",
    "        \n",
    "        init_pred_time = time()\n",
    "        X_val_transformed = pca.transform(X_val)\n",
    "        y_pred = clf.predict(X_val_transformed)\n",
    "        end_pred_time = time()\n",
    "        \n",
    "        pred_time = (end_pred_time - init_pred_time) / len(X_val_transformed)\n",
    "        \n",
    "        return y_pred, pred_time, fit_time\n",
    "    \n",
    "    return classifierPCA"
   ]
  },
  {
   "cell_type": "markdown",
   "metadata": {},
   "source": [
    "## Test 1: Knn variando la cantidad de vecinos"
   ]
  },
  {
   "cell_type": "code",
   "execution_count": null,
   "metadata": {},
   "outputs": [],
   "source": [
    "neighbors_range = [1, 5, 10, 20, 40, 60, 100]"
   ]
  },
  {
   "cell_type": "code",
   "execution_count": null,
   "metadata": {},
   "outputs": [],
   "source": [
    "%%time\n",
    "\n",
    "accuracy = []\n",
    "pred_time = []\n",
    "fit_time = []\n",
    "\n",
    "for i in neighbors_range:\n",
    "    K = 10\n",
    "    neighbors = i\n",
    "    \n",
    "    print(\"Neighbors: {}\".format(i))\n",
    "    acc, pt, ft = KFold(X, y, K, classifierKNNDynamic(i))\n",
    "    \n",
    "    accuracy.append(acc)\n",
    "    pred_time.append(pt)\n",
    "    fit_time.append(ft)"
   ]
  },
  {
   "cell_type": "code",
   "execution_count": null,
   "metadata": {},
   "outputs": [],
   "source": [
    "data = pd.DataFrame({\n",
    "    'Neighbors': neighbors_range, \n",
    "    'Accuracy': accuracy,\n",
    "    'Prediction time': pred_time,\n",
    "    'Fit time': fit_time,\n",
    "    'Method': 'KNN'\n",
    "})\n",
    "\n",
    "data.to_csv('tests_csv/test1.csv', index=False)"
   ]
  },
  {
   "cell_type": "markdown",
   "metadata": {},
   "source": [
    "## Test 2: PCA + KNN variando la cantidad de componentes principales y vecinos"
   ]
  },
  {
   "cell_type": "code",
   "execution_count": null,
   "metadata": {},
   "outputs": [],
   "source": [
    "components_range = [10, 15, 25, 50, 100]\n",
    "neighbors_range = [5, 10, 20, 50]"
   ]
  },
  {
   "cell_type": "code",
   "execution_count": null,
   "metadata": {},
   "outputs": [],
   "source": [
    "%%time\n",
    "\n",
    "neighbors_accuracy = []\n",
    "neighbors_pred_time = []\n",
    "neighbors_fit_time = []\n",
    "\n",
    "for k in neighbors_range:\n",
    "    accuracy = []\n",
    "    pred_time = []\n",
    "    fit_time = []\n",
    "\n",
    "    for c in components_range:\n",
    "        K = 10\n",
    "        neighbors = k\n",
    "        components = c\n",
    "\n",
    "        print(\"Components: {} Neighbors: {}\".format(components, neighbors))\n",
    "\n",
    "        acc, pt, ft = KFold(X, y, K, classifierPCADynamic(neighbors, components))\n",
    "\n",
    "        accuracy.append(acc)\n",
    "        pred_time.append(pt)\n",
    "        fit_time.append(ft)\n",
    "        \n",
    "    neighbors_accuracy.append(accuracy)\n",
    "    neighbors_pred_time.append(pred_time)\n",
    "    neighbors_fit_time.append(fit_time)"
   ]
  },
  {
   "cell_type": "code",
   "execution_count": null,
   "metadata": {},
   "outputs": [],
   "source": [
    "neighbors_data = []\n",
    "\n",
    "for i in range(0, len(neighbors_range)):\n",
    "    data = pd.DataFrame({\n",
    "        'Components': components_range, \n",
    "        'Accuracy': neighbors_accuracy[i],\n",
    "        'Prediction time': neighbors_pred_time[i],\n",
    "        'Fit time': neighbors_fit_time[i],\n",
    "        'Method': 'PCA + KNN k=' + str(neighbors_range[i])\n",
    "    })\n",
    "    \n",
    "    neighbors_data.append(data)\n",
    "    \n",
    "data = pd.concat(neighbors_data)\n",
    "\n",
    "data.to_csv('tests_csv/test2.csv', index=False)"
   ]
  },
  {
   "cell_type": "markdown",
   "metadata": {},
   "source": [
    "## Test 3: Comparacion de accuracy y time"
   ]
  },
  {
   "cell_type": "code",
   "execution_count": null,
   "metadata": {},
   "outputs": [],
   "source": [
    "K_range = [2, 5, 10, 25, 50, 100]"
   ]
  },
  {
   "cell_type": "code",
   "execution_count": null,
   "metadata": {},
   "outputs": [],
   "source": [
    "%%time\n",
    "\n",
    "knn_accuracy = []\n",
    "knn_pred_time = []\n",
    "knn_fit_time = []\n",
    "\n",
    "pca_accuracy = []\n",
    "pca_pred_time = []\n",
    "pca_fit_time = []\n",
    "\n",
    "for i in K_range:\n",
    "    K = i\n",
    "    neighbors = 5\n",
    "    components = 30\n",
    "    \n",
    "    print(\"K: {}\".format(K))\n",
    "    \n",
    "    acc, pt, ft = KFold(X, y, K, classifierKNNDynamic(neighbors))\n",
    "    \n",
    "    knn_accuracy.append(acc)\n",
    "    knn_pred_time.append(pt)\n",
    "    knn_fit_time.append(ft)\n",
    "    \n",
    "    acc, pt, ft = KFold(X, y, K, classifierPCADynamic(neighbors, components))\n",
    "    \n",
    "    pca_accuracy.append(acc)\n",
    "    pca_pred_time.append(pt)\n",
    "    pca_fit_time.append(ft)"
   ]
  },
  {
   "cell_type": "code",
   "execution_count": null,
   "metadata": {},
   "outputs": [],
   "source": [
    "dataKNN = pd.DataFrame({\n",
    "    'K': K_range, \n",
    "    'Accuracy': knn_accuracy,\n",
    "    'Prediction Time': knn_pred_time,\n",
    "    'Fit Time': knn_fit_time,\n",
    "    'Method': 'KNN'\n",
    "})\n",
    "\n",
    "dataPCA = pd.DataFrame({\n",
    "    'K': K_range, \n",
    "    'Accuracy': pca_accuracy,\n",
    "    'Prediction Time': pca_pred_time,\n",
    "    'Fit Time': pca_fit_time,\n",
    "    'Method': 'KNN + PCA'\n",
    "})\n",
    "\n",
    "data = pd.concat([dataKNN, dataPCA])\n",
    "\n",
    "data.to_csv('tests_csv/test3.csv', index=False)"
   ]
  },
  {
   "cell_type": "markdown",
   "metadata": {},
   "source": [
    "## Test 4: Kappa de Cohen de los clasificadores"
   ]
  },
  {
   "cell_type": "code",
   "execution_count": null,
   "metadata": {},
   "outputs": [],
   "source": [
    "K_range = [2, 5, 10, 25, 50, 100]"
   ]
  },
  {
   "cell_type": "code",
   "execution_count": null,
   "metadata": {},
   "outputs": [],
   "source": [
    "%%time\n",
    "\n",
    "cohen_kappa = []\n",
    "\n",
    "for i in K_range:\n",
    "    K = i\n",
    "    neighbors = 5\n",
    "    components = 30\n",
    "    \n",
    "    print(\"K: {}\".format(K))\n",
    "    \n",
    "    classifier1 = classifierKNNDynamic(neighbors)\n",
    "    classifier2 = classifierPCADynamic(neighbors, components)\n",
    "\n",
    "    ck = KFoldCohenKappa(X, y, K, classifier1, classifier2)\n",
    "    \n",
    "    cohen_kappa.append(ck)"
   ]
  },
  {
   "cell_type": "code",
   "execution_count": null,
   "metadata": {},
   "outputs": [],
   "source": [
    "data = pd.DataFrame({\n",
    "    'K': K_range,\n",
    "    'Cohen Kappa': cohen_kappa,\n",
    "    'Classifiers': 'KNN and KNN + PCA'\n",
    "})\n",
    "    \n",
    "data.to_csv('tests_csv/test4.csv', index=False)"
   ]
  }
 ],
 "metadata": {
  "kernelspec": {
   "display_name": "Python 3",
   "language": "python",
   "name": "python3"
  },
  "language_info": {
   "codemirror_mode": {
    "name": "ipython",
    "version": 3
   },
   "file_extension": ".py",
   "mimetype": "text/x-python",
   "name": "python",
   "nbconvert_exporter": "python",
   "pygments_lexer": "ipython3",
   "version": "3.7.7"
  }
 },
 "nbformat": 4,
 "nbformat_minor": 4
}
