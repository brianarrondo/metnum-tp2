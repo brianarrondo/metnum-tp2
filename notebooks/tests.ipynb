{
 "cells": [
  {
   "cell_type": "markdown",
   "metadata": {},
   "source": [
    "# Experimentación 1"
   ]
  },
  {
   "cell_type": "markdown",
   "metadata": {},
   "source": [
    "Analizar la calidad de los resultados obtenidos al combinar kNN con y sin PCA, para\n",
    "un rango amplio de combinaciones de valores de k y α. Llamamos k a la cantidad de\n",
    "vecinos a considerar en el algoritmo kNN y α a la cantidad de componentes principales\n",
    "a tomar."
   ]
  },
  {
   "cell_type": "code",
   "execution_count": 1,
   "metadata": {},
   "outputs": [],
   "source": [
    "%load_ext autoreload\n",
    "%autoreload 2\n",
    "import pandas as pd\n",
    "import numpy as np\n",
    "import matplotlib.pyplot as plt\n",
    "import seaborn as sns\n",
    "import metnum\n",
    "from sklearn.metrics import accuracy_score\n",
    "from time import time\n",
    "\n",
    "df_train = pd.read_csv(\"../data/train.csv\")"
   ]
  },
  {
   "cell_type": "code",
   "execution_count": 2,
   "metadata": {},
   "outputs": [],
   "source": [
    "# Reduzco data set\n",
    "df_train = df_train[:1000]"
   ]
  },
  {
   "cell_type": "markdown",
   "metadata": {},
   "source": [
    "En el primer caracter está el dígito a reconocer. Llamamos a esto y_train"
   ]
  },
  {
   "cell_type": "code",
   "execution_count": 3,
   "metadata": {},
   "outputs": [
    {
     "data": {
      "text/plain": [
       "((1000, 784), (1000, 1))"
      ]
     },
     "execution_count": 3,
     "metadata": {},
     "output_type": "execute_result"
    }
   ],
   "source": [
    "# Uso values para mandar todo a arrays de numpy\n",
    "X = df_train[df_train.columns[1:]].values\n",
    "y = df_train[\"label\"].values.reshape(-1, 1)\n",
    "\n",
    "X.shape, y.shape"
   ]
  },
  {
   "cell_type": "markdown",
   "metadata": {},
   "source": [
    "## K-Fold Cross-Validation"
   ]
  },
  {
   "cell_type": "code",
   "execution_count": 4,
   "metadata": {},
   "outputs": [],
   "source": [
    "def splitTrainSet(X, y, K, i):\n",
    "    size = int(X.shape[0] * 1/K)\n",
    "    X_train1, y_train1 = X[:i * size], y[:i * size]\n",
    "    X_val, y_val = X[i * size:(i + 1) * size], y[i * size:(i + 1) * size]\n",
    "    X_train2, y_train2 = X[(i + 1) * size:], y[(i + 1) * size:]\n",
    "    \n",
    "    X_train, y_train = np.concatenate((X_train1, X_train2)), np.concatenate((y_train1, y_train2))\n",
    "    \n",
    "    return X_train, y_train, X_val, y_val"
   ]
  },
  {
   "cell_type": "code",
   "execution_count": 5,
   "metadata": {},
   "outputs": [],
   "source": [
    "def KFold(X, y, K, classifier):\n",
    "    \n",
    "    accuracy = []\n",
    "    total_time = []\n",
    "    pred_time = []\n",
    "    \n",
    "    for i in range(0, K):\n",
    "        X_train, y_train, X_val, y_val = splitTrainSet(X, y, K, i)\n",
    "\n",
    "        init_time = time() \n",
    "        \n",
    "        y_pred, pt = classifier(X_train, y_train, X_val)\n",
    "        \n",
    "        end_time = time() \n",
    "\n",
    "        acc = accuracy_score(y_val, y_pred)\n",
    "        rt = end_time - init_time\n",
    "\n",
    "        accuracy.append(acc)\n",
    "        total_time.append(rt)\n",
    "        pred_time.append(pt)\n",
    "\n",
    "    accuracy = np.mean(accuracy)\n",
    "    total_time = np.mean(total_time)\n",
    "    pred_time = np.mean(pred_time)\n",
    "\n",
    "    return accuracy, total_time, pred_time"
   ]
  },
  {
   "cell_type": "markdown",
   "metadata": {},
   "source": [
    "## Classifiers Dynamics"
   ]
  },
  {
   "cell_type": "code",
   "execution_count": 6,
   "metadata": {},
   "outputs": [],
   "source": [
    "def classifierKNNDynamic(neighbors):\n",
    "    def classifierKNN(X_train, y_train, X_val):\n",
    "        clf = metnum.KNNClassifier(neighbors)\n",
    "        \n",
    "        clf.fit(X_train, y_train)\n",
    "        \n",
    "        init_time = time()\n",
    "        y_pred = clf.predict(X_val)\n",
    "        end_time = time()\n",
    "        \n",
    "        pred_time = end_time - init_time\n",
    "        \n",
    "        return y_pred, pred_time\n",
    "    \n",
    "    return classifierKNN"
   ]
  },
  {
   "cell_type": "code",
   "execution_count": 7,
   "metadata": {},
   "outputs": [],
   "source": [
    "def classifierPCADynamic(neighbors, components):\n",
    "    def classifierPCA(X_train, y_train, X_val):\n",
    "        clf = metnum.KNNClassifier(neighbors)\n",
    "        pca = metnum.PCA(components)\n",
    "        \n",
    "        pca.fit(X_train)\n",
    "        X_train_transformed = pca.transform(X_train)\n",
    "        clf.fit(X_train_transformed, y_train)\n",
    "        X_val_transformed = pca.transform(X_val)\n",
    "        \n",
    "        init_time = time()\n",
    "        y_pred = clf.predict(X_val_transformed)\n",
    "        end_time = time()\n",
    "        \n",
    "        pred_time = end_time - init_time\n",
    "        \n",
    "        return y_pred, pred_time\n",
    "    \n",
    "    return classifierPCA"
   ]
  },
  {
   "cell_type": "markdown",
   "metadata": {},
   "source": [
    "## Test 1: Knn variando la cantidad de vecinos"
   ]
  },
  {
   "cell_type": "code",
   "execution_count": 8,
   "metadata": {},
   "outputs": [],
   "source": [
    "neighbors_range = range(1, 30)"
   ]
  },
  {
   "cell_type": "code",
   "execution_count": 9,
   "metadata": {},
   "outputs": [
    {
     "name": "stdout",
     "output_type": "stream",
     "text": [
      "Neighbors: 1\n",
      "Neighbors: 2\n",
      "Neighbors: 3\n",
      "Neighbors: 4\n",
      "Neighbors: 5\n",
      "Neighbors: 6\n",
      "Neighbors: 7\n",
      "Neighbors: 8\n",
      "Neighbors: 9\n",
      "Neighbors: 10\n",
      "Neighbors: 11\n",
      "Neighbors: 12\n",
      "Neighbors: 13\n",
      "Neighbors: 14\n",
      "Neighbors: 15\n",
      "Neighbors: 16\n",
      "Neighbors: 17\n",
      "Neighbors: 18\n",
      "Neighbors: 19\n",
      "Neighbors: 20\n",
      "Neighbors: 21\n",
      "Neighbors: 22\n",
      "Neighbors: 23\n",
      "Neighbors: 24\n",
      "Neighbors: 25\n",
      "Neighbors: 26\n",
      "Neighbors: 27\n",
      "Neighbors: 28\n",
      "Neighbors: 29\n",
      "CPU times: user 10.8 s, sys: 234 ms, total: 11 s\n",
      "Wall time: 11.1 s\n"
     ]
    }
   ],
   "source": [
    "%%time\n",
    "\n",
    "accuracy = []\n",
    "total_time = []\n",
    "pred_time = []\n",
    "\n",
    "for i in neighbors_range:\n",
    "    K = 10\n",
    "    neighbors = i\n",
    "    \n",
    "    print(\"Neighbors: {}\".format(i))\n",
    "    acc, tt, pt = KFold(X, y, K, classifierKNNDynamic(i))\n",
    "    \n",
    "    accuracy.append(acc)\n",
    "    total_time.append(tt)\n",
    "    pred_time.append(pt)"
   ]
  },
  {
   "cell_type": "code",
   "execution_count": 10,
   "metadata": {},
   "outputs": [
    {
     "data": {
      "text/html": [
       "<div>\n",
       "<style scoped>\n",
       "    .dataframe tbody tr th:only-of-type {\n",
       "        vertical-align: middle;\n",
       "    }\n",
       "\n",
       "    .dataframe tbody tr th {\n",
       "        vertical-align: top;\n",
       "    }\n",
       "\n",
       "    .dataframe thead th {\n",
       "        text-align: right;\n",
       "    }\n",
       "</style>\n",
       "<table border=\"1\" class=\"dataframe\">\n",
       "  <thead>\n",
       "    <tr style=\"text-align: right;\">\n",
       "      <th></th>\n",
       "      <th>Neighbors</th>\n",
       "      <th>Accuracy</th>\n",
       "      <th>Method</th>\n",
       "    </tr>\n",
       "  </thead>\n",
       "  <tbody>\n",
       "    <tr>\n",
       "      <th>0</th>\n",
       "      <td>1</td>\n",
       "      <td>0.858</td>\n",
       "      <td>KNN</td>\n",
       "    </tr>\n",
       "    <tr>\n",
       "      <th>1</th>\n",
       "      <td>2</td>\n",
       "      <td>0.838</td>\n",
       "      <td>KNN</td>\n",
       "    </tr>\n",
       "    <tr>\n",
       "      <th>2</th>\n",
       "      <td>3</td>\n",
       "      <td>0.855</td>\n",
       "      <td>KNN</td>\n",
       "    </tr>\n",
       "    <tr>\n",
       "      <th>3</th>\n",
       "      <td>4</td>\n",
       "      <td>0.850</td>\n",
       "      <td>KNN</td>\n",
       "    </tr>\n",
       "    <tr>\n",
       "      <th>4</th>\n",
       "      <td>5</td>\n",
       "      <td>0.840</td>\n",
       "      <td>KNN</td>\n",
       "    </tr>\n",
       "    <tr>\n",
       "      <th>5</th>\n",
       "      <td>6</td>\n",
       "      <td>0.841</td>\n",
       "      <td>KNN</td>\n",
       "    </tr>\n",
       "    <tr>\n",
       "      <th>6</th>\n",
       "      <td>7</td>\n",
       "      <td>0.848</td>\n",
       "      <td>KNN</td>\n",
       "    </tr>\n",
       "    <tr>\n",
       "      <th>7</th>\n",
       "      <td>8</td>\n",
       "      <td>0.838</td>\n",
       "      <td>KNN</td>\n",
       "    </tr>\n",
       "    <tr>\n",
       "      <th>8</th>\n",
       "      <td>9</td>\n",
       "      <td>0.831</td>\n",
       "      <td>KNN</td>\n",
       "    </tr>\n",
       "    <tr>\n",
       "      <th>9</th>\n",
       "      <td>10</td>\n",
       "      <td>0.831</td>\n",
       "      <td>KNN</td>\n",
       "    </tr>\n",
       "    <tr>\n",
       "      <th>10</th>\n",
       "      <td>11</td>\n",
       "      <td>0.831</td>\n",
       "      <td>KNN</td>\n",
       "    </tr>\n",
       "    <tr>\n",
       "      <th>11</th>\n",
       "      <td>12</td>\n",
       "      <td>0.819</td>\n",
       "      <td>KNN</td>\n",
       "    </tr>\n",
       "    <tr>\n",
       "      <th>12</th>\n",
       "      <td>13</td>\n",
       "      <td>0.821</td>\n",
       "      <td>KNN</td>\n",
       "    </tr>\n",
       "    <tr>\n",
       "      <th>13</th>\n",
       "      <td>14</td>\n",
       "      <td>0.825</td>\n",
       "      <td>KNN</td>\n",
       "    </tr>\n",
       "    <tr>\n",
       "      <th>14</th>\n",
       "      <td>15</td>\n",
       "      <td>0.817</td>\n",
       "      <td>KNN</td>\n",
       "    </tr>\n",
       "    <tr>\n",
       "      <th>15</th>\n",
       "      <td>16</td>\n",
       "      <td>0.814</td>\n",
       "      <td>KNN</td>\n",
       "    </tr>\n",
       "    <tr>\n",
       "      <th>16</th>\n",
       "      <td>17</td>\n",
       "      <td>0.811</td>\n",
       "      <td>KNN</td>\n",
       "    </tr>\n",
       "    <tr>\n",
       "      <th>17</th>\n",
       "      <td>18</td>\n",
       "      <td>0.807</td>\n",
       "      <td>KNN</td>\n",
       "    </tr>\n",
       "    <tr>\n",
       "      <th>18</th>\n",
       "      <td>19</td>\n",
       "      <td>0.796</td>\n",
       "      <td>KNN</td>\n",
       "    </tr>\n",
       "    <tr>\n",
       "      <th>19</th>\n",
       "      <td>20</td>\n",
       "      <td>0.797</td>\n",
       "      <td>KNN</td>\n",
       "    </tr>\n",
       "    <tr>\n",
       "      <th>20</th>\n",
       "      <td>21</td>\n",
       "      <td>0.794</td>\n",
       "      <td>KNN</td>\n",
       "    </tr>\n",
       "    <tr>\n",
       "      <th>21</th>\n",
       "      <td>22</td>\n",
       "      <td>0.793</td>\n",
       "      <td>KNN</td>\n",
       "    </tr>\n",
       "    <tr>\n",
       "      <th>22</th>\n",
       "      <td>23</td>\n",
       "      <td>0.787</td>\n",
       "      <td>KNN</td>\n",
       "    </tr>\n",
       "    <tr>\n",
       "      <th>23</th>\n",
       "      <td>24</td>\n",
       "      <td>0.785</td>\n",
       "      <td>KNN</td>\n",
       "    </tr>\n",
       "    <tr>\n",
       "      <th>24</th>\n",
       "      <td>25</td>\n",
       "      <td>0.788</td>\n",
       "      <td>KNN</td>\n",
       "    </tr>\n",
       "    <tr>\n",
       "      <th>25</th>\n",
       "      <td>26</td>\n",
       "      <td>0.780</td>\n",
       "      <td>KNN</td>\n",
       "    </tr>\n",
       "    <tr>\n",
       "      <th>26</th>\n",
       "      <td>27</td>\n",
       "      <td>0.776</td>\n",
       "      <td>KNN</td>\n",
       "    </tr>\n",
       "    <tr>\n",
       "      <th>27</th>\n",
       "      <td>28</td>\n",
       "      <td>0.772</td>\n",
       "      <td>KNN</td>\n",
       "    </tr>\n",
       "    <tr>\n",
       "      <th>28</th>\n",
       "      <td>29</td>\n",
       "      <td>0.770</td>\n",
       "      <td>KNN</td>\n",
       "    </tr>\n",
       "  </tbody>\n",
       "</table>\n",
       "</div>"
      ],
      "text/plain": [
       "    Neighbors  Accuracy Method\n",
       "0           1     0.858    KNN\n",
       "1           2     0.838    KNN\n",
       "2           3     0.855    KNN\n",
       "3           4     0.850    KNN\n",
       "4           5     0.840    KNN\n",
       "5           6     0.841    KNN\n",
       "6           7     0.848    KNN\n",
       "7           8     0.838    KNN\n",
       "8           9     0.831    KNN\n",
       "9          10     0.831    KNN\n",
       "10         11     0.831    KNN\n",
       "11         12     0.819    KNN\n",
       "12         13     0.821    KNN\n",
       "13         14     0.825    KNN\n",
       "14         15     0.817    KNN\n",
       "15         16     0.814    KNN\n",
       "16         17     0.811    KNN\n",
       "17         18     0.807    KNN\n",
       "18         19     0.796    KNN\n",
       "19         20     0.797    KNN\n",
       "20         21     0.794    KNN\n",
       "21         22     0.793    KNN\n",
       "22         23     0.787    KNN\n",
       "23         24     0.785    KNN\n",
       "24         25     0.788    KNN\n",
       "25         26     0.780    KNN\n",
       "26         27     0.776    KNN\n",
       "27         28     0.772    KNN\n",
       "28         29     0.770    KNN"
      ]
     },
     "execution_count": 10,
     "metadata": {},
     "output_type": "execute_result"
    }
   ],
   "source": [
    "neighbors = list(neighbors_range)\n",
    "dataAcc = pd.DataFrame({\n",
    "    'Neighbors': neighbors, \n",
    "    'Accuracy': accuracy,\n",
    "    'Method': 'KNN'\n",
    "})\n",
    "\n",
    "dataAcc"
   ]
  },
  {
   "cell_type": "code",
   "execution_count": 11,
   "metadata": {},
   "outputs": [
    {
     "data": {
      "text/plain": [
       "Text(0.5, 1.0, 'Test 1 - Accuracy')"
      ]
     },
     "execution_count": 11,
     "metadata": {},
     "output_type": "execute_result"
    },
    {
     "data": {
      "image/png": "[encoded data removed]",
      "text/plain": [
       "<Figure size 432x288 with 1 Axes>"
      ]
     },
     "metadata": {
      "needs_background": "light"
     },
     "output_type": "display_data"
    }
   ],
   "source": [
    "sns.lineplot(x='Neighbors', y='Accuracy', hue='Method', data=dataAcc)\n",
    "plt.title(\"Test 1 - Accuracy\")"
   ]
  },
  {
   "cell_type": "code",
   "execution_count": 12,
   "metadata": {},
   "outputs": [],
   "source": [
    "dataTotal = pd.DataFrame({\n",
    "    'Neighbors': neighbors, \n",
    "    'Time': total_time,\n",
    "    'Method': 'KNN - Total'\n",
    "})\n",
    "\n",
    "dataPred = pd.DataFrame({\n",
    "    'Neighbors': neighbors, \n",
    "    'Time': pred_time,\n",
    "    'Method': 'KNN - Prediction'\n",
    "})\n",
    "\n",
    "dataTime = pd.concat([dataTotal, dataPred])"
   ]
  },
  {
   "cell_type": "code",
   "execution_count": 13,
   "metadata": {},
   "outputs": [
    {
     "data": {
      "text/plain": [
       "Text(0.5, 1.0, 'Test 1 - Time')"
      ]
     },
     "execution_count": 13,
     "metadata": {},
     "output_type": "execute_result"
    },
    {
     "data": {
      "image/png": "[encoded data removed]",
      "text/plain": [
       "<Figure size 432x288 with 1 Axes>"
      ]
     },
     "metadata": {
      "needs_background": "light"
     },
     "output_type": "display_data"
    }
   ],
   "source": [
    "sns.lineplot(x='Neighbors', y='Time', hue='Method', data=dataTime)\n",
    "plt.title(\"Test 1 - Time\")"
   ]
  },
  {
   "cell_type": "markdown",
   "metadata": {},
   "source": [
    "## Test 2: PCA + KNN variando la cantidad de componentes principales"
   ]
  },
  {
   "cell_type": "code",
   "execution_count": 14,
   "metadata": {},
   "outputs": [],
   "source": [
    "components_range = range(1, 30)"
   ]
  },
  {
   "cell_type": "code",
   "execution_count": 15,
   "metadata": {},
   "outputs": [
    {
     "name": "stdout",
     "output_type": "stream",
     "text": [
      "Components: 1\n",
      "Components: 2\n",
      "Components: 3\n",
      "Components: 4\n",
      "Components: 5\n",
      "Components: 6\n",
      "Components: 7\n",
      "Components: 8\n",
      "Components: 9\n",
      "Components: 10\n",
      "Components: 11\n",
      "Components: 12\n",
      "Components: 13\n",
      "Components: 14\n",
      "Components: 15\n",
      "Components: 16\n",
      "Components: 17\n",
      "Components: 18\n",
      "Components: 19\n",
      "Components: 20\n",
      "Components: 21\n",
      "Components: 22\n",
      "Components: 23\n",
      "Components: 24\n",
      "Components: 25\n",
      "Components: 26\n",
      "Components: 27\n",
      "Components: 28\n",
      "Components: 29\n",
      "CPU times: user 2min 51s, sys: 1.06 s, total: 2min 52s\n",
      "Wall time: 2min 53s\n"
     ]
    }
   ],
   "source": [
    "%%time\n",
    "\n",
    "accuracy = []\n",
    "total_time = []\n",
    "pred_time = []\n",
    "\n",
    "for i in components_range:\n",
    "    K = 10\n",
    "    neighbors = 5\n",
    "    components = i\n",
    "    \n",
    "    print(\"Components: {}\".format(components))\n",
    "    \n",
    "    acc, tt, pt = KFold(X, y, K, classifierPCADynamic(neighbors, components))\n",
    "    \n",
    "    accuracy.append(acc)\n",
    "    total_time.append(tt)\n",
    "    pred_time.append(pt)"
   ]
  },
  {
   "cell_type": "code",
   "execution_count": 35,
   "metadata": {},
   "outputs": [
    {
     "data": {
      "text/html": [
       "<div>\n",
       "<style scoped>\n",
       "    .dataframe tbody tr th:only-of-type {\n",
       "        vertical-align: middle;\n",
       "    }\n",
       "\n",
       "    .dataframe tbody tr th {\n",
       "        vertical-align: top;\n",
       "    }\n",
       "\n",
       "    .dataframe thead th {\n",
       "        text-align: right;\n",
       "    }\n",
       "</style>\n",
       "<table border=\"1\" class=\"dataframe\">\n",
       "  <thead>\n",
       "    <tr style=\"text-align: right;\">\n",
       "      <th></th>\n",
       "      <th>Components</th>\n",
       "      <th>Accuracy</th>\n",
       "      <th>Method</th>\n",
       "    </tr>\n",
       "  </thead>\n",
       "  <tbody>\n",
       "    <tr>\n",
       "      <th>0</th>\n",
       "      <td>1</td>\n",
       "      <td>0.274</td>\n",
       "      <td>PCA + KNN</td>\n",
       "    </tr>\n",
       "    <tr>\n",
       "      <th>1</th>\n",
       "      <td>2</td>\n",
       "      <td>0.394</td>\n",
       "      <td>PCA + KNN</td>\n",
       "    </tr>\n",
       "    <tr>\n",
       "      <th>2</th>\n",
       "      <td>3</td>\n",
       "      <td>0.483</td>\n",
       "      <td>PCA + KNN</td>\n",
       "    </tr>\n",
       "    <tr>\n",
       "      <th>3</th>\n",
       "      <td>4</td>\n",
       "      <td>0.620</td>\n",
       "      <td>PCA + KNN</td>\n",
       "    </tr>\n",
       "    <tr>\n",
       "      <th>4</th>\n",
       "      <td>5</td>\n",
       "      <td>0.670</td>\n",
       "      <td>PCA + KNN</td>\n",
       "    </tr>\n",
       "    <tr>\n",
       "      <th>5</th>\n",
       "      <td>6</td>\n",
       "      <td>0.773</td>\n",
       "      <td>PCA + KNN</td>\n",
       "    </tr>\n",
       "    <tr>\n",
       "      <th>6</th>\n",
       "      <td>7</td>\n",
       "      <td>0.776</td>\n",
       "      <td>PCA + KNN</td>\n",
       "    </tr>\n",
       "    <tr>\n",
       "      <th>7</th>\n",
       "      <td>8</td>\n",
       "      <td>0.791</td>\n",
       "      <td>PCA + KNN</td>\n",
       "    </tr>\n",
       "    <tr>\n",
       "      <th>8</th>\n",
       "      <td>9</td>\n",
       "      <td>0.822</td>\n",
       "      <td>PCA + KNN</td>\n",
       "    </tr>\n",
       "    <tr>\n",
       "      <th>9</th>\n",
       "      <td>10</td>\n",
       "      <td>0.824</td>\n",
       "      <td>PCA + KNN</td>\n",
       "    </tr>\n",
       "    <tr>\n",
       "      <th>10</th>\n",
       "      <td>11</td>\n",
       "      <td>0.827</td>\n",
       "      <td>PCA + KNN</td>\n",
       "    </tr>\n",
       "    <tr>\n",
       "      <th>11</th>\n",
       "      <td>12</td>\n",
       "      <td>0.846</td>\n",
       "      <td>PCA + KNN</td>\n",
       "    </tr>\n",
       "    <tr>\n",
       "      <th>12</th>\n",
       "      <td>13</td>\n",
       "      <td>0.851</td>\n",
       "      <td>PCA + KNN</td>\n",
       "    </tr>\n",
       "    <tr>\n",
       "      <th>13</th>\n",
       "      <td>14</td>\n",
       "      <td>0.864</td>\n",
       "      <td>PCA + KNN</td>\n",
       "    </tr>\n",
       "    <tr>\n",
       "      <th>14</th>\n",
       "      <td>15</td>\n",
       "      <td>0.868</td>\n",
       "      <td>PCA + KNN</td>\n",
       "    </tr>\n",
       "    <tr>\n",
       "      <th>15</th>\n",
       "      <td>16</td>\n",
       "      <td>0.869</td>\n",
       "      <td>PCA + KNN</td>\n",
       "    </tr>\n",
       "    <tr>\n",
       "      <th>16</th>\n",
       "      <td>17</td>\n",
       "      <td>0.878</td>\n",
       "      <td>PCA + KNN</td>\n",
       "    </tr>\n",
       "    <tr>\n",
       "      <th>17</th>\n",
       "      <td>18</td>\n",
       "      <td>0.864</td>\n",
       "      <td>PCA + KNN</td>\n",
       "    </tr>\n",
       "    <tr>\n",
       "      <th>18</th>\n",
       "      <td>19</td>\n",
       "      <td>0.866</td>\n",
       "      <td>PCA + KNN</td>\n",
       "    </tr>\n",
       "    <tr>\n",
       "      <th>19</th>\n",
       "      <td>20</td>\n",
       "      <td>0.872</td>\n",
       "      <td>PCA + KNN</td>\n",
       "    </tr>\n",
       "    <tr>\n",
       "      <th>20</th>\n",
       "      <td>21</td>\n",
       "      <td>0.872</td>\n",
       "      <td>PCA + KNN</td>\n",
       "    </tr>\n",
       "    <tr>\n",
       "      <th>21</th>\n",
       "      <td>22</td>\n",
       "      <td>0.879</td>\n",
       "      <td>PCA + KNN</td>\n",
       "    </tr>\n",
       "    <tr>\n",
       "      <th>22</th>\n",
       "      <td>23</td>\n",
       "      <td>0.870</td>\n",
       "      <td>PCA + KNN</td>\n",
       "    </tr>\n",
       "    <tr>\n",
       "      <th>23</th>\n",
       "      <td>24</td>\n",
       "      <td>0.869</td>\n",
       "      <td>PCA + KNN</td>\n",
       "    </tr>\n",
       "    <tr>\n",
       "      <th>24</th>\n",
       "      <td>25</td>\n",
       "      <td>0.868</td>\n",
       "      <td>PCA + KNN</td>\n",
       "    </tr>\n",
       "    <tr>\n",
       "      <th>25</th>\n",
       "      <td>26</td>\n",
       "      <td>0.860</td>\n",
       "      <td>PCA + KNN</td>\n",
       "    </tr>\n",
       "    <tr>\n",
       "      <th>26</th>\n",
       "      <td>27</td>\n",
       "      <td>0.859</td>\n",
       "      <td>PCA + KNN</td>\n",
       "    </tr>\n",
       "    <tr>\n",
       "      <th>27</th>\n",
       "      <td>28</td>\n",
       "      <td>0.861</td>\n",
       "      <td>PCA + KNN</td>\n",
       "    </tr>\n",
       "    <tr>\n",
       "      <th>28</th>\n",
       "      <td>29</td>\n",
       "      <td>0.867</td>\n",
       "      <td>PCA + KNN</td>\n",
       "    </tr>\n",
       "  </tbody>\n",
       "</table>\n",
       "</div>"
      ],
      "text/plain": [
       "    Components  Accuracy     Method\n",
       "0            1     0.274  PCA + KNN\n",
       "1            2     0.394  PCA + KNN\n",
       "2            3     0.483  PCA + KNN\n",
       "3            4     0.620  PCA + KNN\n",
       "4            5     0.670  PCA + KNN\n",
       "5            6     0.773  PCA + KNN\n",
       "6            7     0.776  PCA + KNN\n",
       "7            8     0.791  PCA + KNN\n",
       "8            9     0.822  PCA + KNN\n",
       "9           10     0.824  PCA + KNN\n",
       "10          11     0.827  PCA + KNN\n",
       "11          12     0.846  PCA + KNN\n",
       "12          13     0.851  PCA + KNN\n",
       "13          14     0.864  PCA + KNN\n",
       "14          15     0.868  PCA + KNN\n",
       "15          16     0.869  PCA + KNN\n",
       "16          17     0.878  PCA + KNN\n",
       "17          18     0.864  PCA + KNN\n",
       "18          19     0.866  PCA + KNN\n",
       "19          20     0.872  PCA + KNN\n",
       "20          21     0.872  PCA + KNN\n",
       "21          22     0.879  PCA + KNN\n",
       "22          23     0.870  PCA + KNN\n",
       "23          24     0.869  PCA + KNN\n",
       "24          25     0.868  PCA + KNN\n",
       "25          26     0.860  PCA + KNN\n",
       "26          27     0.859  PCA + KNN\n",
       "27          28     0.861  PCA + KNN\n",
       "28          29     0.867  PCA + KNN"
      ]
     },
     "execution_count": 35,
     "metadata": {},
     "output_type": "execute_result"
    }
   ],
   "source": [
    "components = list(components_range)\n",
    "dataAcc = pd.DataFrame({\n",
    "    'Components': components, \n",
    "    'Accuracy': accuracy,\n",
    "    'Method': 'PCA + KNN'\n",
    "})\n",
    "\n",
    "dataAcc"
   ]
  },
  {
   "cell_type": "code",
   "execution_count": 36,
   "metadata": {},
   "outputs": [
    {
     "data": {
      "text/plain": [
       "Text(0.5, 1.0, 'Test 2 - Accuracy')"
      ]
     },
     "execution_count": 36,
     "metadata": {},
     "output_type": "execute_result"
    },
    {
     "data": {
      "image/png": "[encoded data removed]",
      "text/plain": [
       "<Figure size 432x288 with 1 Axes>"
      ]
     },
     "metadata": {
      "needs_background": "light"
     },
     "output_type": "display_data"
    }
   ],
   "source": [
    "sns.lineplot(x='Components', y='Accuracy', hue='Method', data=dataAcc)\n",
    "plt.title(\"Test 2 - Accuracy\")"
   ]
  },
  {
   "cell_type": "code",
   "execution_count": 37,
   "metadata": {},
   "outputs": [],
   "source": [
    "dataTotal = pd.DataFrame({\n",
    "    'Components': components, \n",
    "    'Time': total_time,\n",
    "    'Method': 'PCA + KNN - Total'\n",
    "})\n",
    "\n",
    "dataPred = pd.DataFrame({\n",
    "    'Components': components, \n",
    "    'Time': pred_time,\n",
    "    'Method': 'PCA + KNN - Prediction'\n",
    "})\n",
    "\n",
    "dataTime = pd.concat([dataTotal, dataPred])"
   ]
  },
  {
   "cell_type": "code",
   "execution_count": 39,
   "metadata": {},
   "outputs": [
    {
     "data": {
      "text/plain": [
       "Text(0.5, 1.0, 'Test 2 - Time')"
      ]
     },
     "execution_count": 39,
     "metadata": {},
     "output_type": "execute_result"
    },
    {
     "data": {
      "image/png": "[encoded data removed]",
      "text/plain": [
       "<Figure size 432x288 with 1 Axes>"
      ]
     },
     "metadata": {
      "needs_background": "light"
     },
     "output_type": "display_data"
    }
   ],
   "source": [
    "\n",
    "\n",
    "grid = sns.lineplot(x='Components', y='Time', hue='Method', data=dataTime)\n",
    "grid.set(yscale=\"log\")\n",
    "plt.title(\"Test 2 - Time\")"
   ]
  },
  {
   "cell_type": "markdown",
   "metadata": {},
   "source": [
    "## Test 3: Comparacion de accuracy y time"
   ]
  },
  {
   "cell_type": "code",
   "execution_count": 20,
   "metadata": {},
   "outputs": [],
   "source": [
    "K_range = range(3, 20)"
   ]
  },
  {
   "cell_type": "code",
   "execution_count": 21,
   "metadata": {},
   "outputs": [
    {
     "name": "stdout",
     "output_type": "stream",
     "text": [
      "K knn: 3\n",
      "K knn: 4\n",
      "K knn: 5\n",
      "K knn: 6\n",
      "K knn: 7\n",
      "K knn: 8\n",
      "K knn: 9\n",
      "K knn: 10\n",
      "K knn: 11\n",
      "K knn: 12\n",
      "K knn: 13\n",
      "K knn: 14\n",
      "K knn: 15\n",
      "K knn: 16\n",
      "K knn: 17\n",
      "K knn: 18\n",
      "K knn: 19\n",
      "CPU times: user 6.5 s, sys: 274 ms, total: 6.77 s\n",
      "Wall time: 6.93 s\n"
     ]
    }
   ],
   "source": [
    "%%time\n",
    "\n",
    "knn_accuracy = []\n",
    "knn_total_time = []\n",
    "knn_pred_time = []\n",
    "\n",
    "for i in K_range:\n",
    "    K = i\n",
    "    neighbors = 5\n",
    "    components = 15\n",
    "    \n",
    "    print(\"K knn: {}\".format(K))\n",
    "    \n",
    "    acc, tt, pt = KFold(X, y, K, classifierKNNDynamic(neighbors))\n",
    "    \n",
    "    knn_accuracy.append(acc)\n",
    "    knn_total_time.append(tt)\n",
    "    knn_pred_time.append(pt)"
   ]
  },
  {
   "cell_type": "code",
   "execution_count": 22,
   "metadata": {},
   "outputs": [
    {
     "name": "stdout",
     "output_type": "stream",
     "text": [
      "K knn + pca: 3\n",
      "K knn + pca: 4\n",
      "K knn + pca: 5\n",
      "K knn + pca: 6\n",
      "K knn + pca: 7\n",
      "K knn + pca: 8\n",
      "K knn + pca: 9\n",
      "K knn + pca: 10\n",
      "K knn + pca: 11\n",
      "K knn + pca: 12\n",
      "K knn + pca: 13\n",
      "K knn + pca: 14\n",
      "K knn + pca: 15\n",
      "K knn + pca: 16\n",
      "K knn + pca: 17\n",
      "K knn + pca: 18\n",
      "K knn + pca: 19\n",
      "CPU times: user 1min 29s, sys: 559 ms, total: 1min 29s\n",
      "Wall time: 1min 29s\n"
     ]
    }
   ],
   "source": [
    "%%time\n",
    "\n",
    "pca_accuracy = []\n",
    "pca_total_time = []\n",
    "pca_pred_time = []\n",
    "\n",
    "for i in K_range:\n",
    "    K = i\n",
    "    neighbors = 5\n",
    "    components = 15\n",
    "    \n",
    "    print(\"K knn + pca: {}\".format(K))\n",
    "    \n",
    "    acc, tt, pt = KFold(X, y, K, classifierPCADynamic(neighbors, components))\n",
    "    \n",
    "    pca_accuracy.append(acc)\n",
    "    pca_total_time.append(tt)\n",
    "    pca_pred_time.append(pt)"
   ]
  },
  {
   "cell_type": "code",
   "execution_count": 23,
   "metadata": {},
   "outputs": [],
   "source": [
    "K = list(K_range)\n",
    "dataKNN = pd.DataFrame({\n",
    "    'K': K, \n",
    "    'Accuracy': knn_accuracy,\n",
    "    'Total Time': knn_total_time,\n",
    "    'Pred Time': knn_pred_time,\n",
    "    'Method': 'KNN'\n",
    "})\n",
    "\n",
    "dataPCA = pd.DataFrame({\n",
    "    'K': K, \n",
    "    'Accuracy': pca_accuracy,\n",
    "    'Total Time': pca_total_time,\n",
    "    'Pred Time': pca_pred_time,\n",
    "    'Method': 'KNN + PCA'\n",
    "})\n",
    "\n",
    "data = pd.concat([dataKNN, dataPCA])"
   ]
  },
  {
   "cell_type": "code",
   "execution_count": 24,
   "metadata": {},
   "outputs": [
    {
     "data": {
      "text/plain": [
       "Text(0.5, 1.0, 'Test 3 - Accuracy')"
      ]
     },
     "execution_count": 24,
     "metadata": {},
     "output_type": "execute_result"
    },
    {
     "data": {
      "image/png": "[encoded data removed]",
      "text/plain": [
       "<Figure size 432x288 with 1 Axes>"
      ]
     },
     "metadata": {
      "needs_background": "light"
     },
     "output_type": "display_data"
    }
   ],
   "source": [
    "sns.lineplot(x='K', y='Accuracy', hue='Method', data=data)\n",
    "plt.title(\"Test 3 - Accuracy\")"
   ]
  },
  {
   "cell_type": "code",
   "execution_count": 25,
   "metadata": {},
   "outputs": [
    {
     "data": {
      "text/plain": [
       "Text(0.5, 1.0, 'Test 3 - Total Time')"
      ]
     },
     "execution_count": 25,
     "metadata": {},
     "output_type": "execute_result"
    },
    {
     "data": {
      "image/png": "[encoded data removed]",
      "text/plain": [
       "<Figure size 432x288 with 1 Axes>"
      ]
     },
     "metadata": {
      "needs_background": "light"
     },
     "output_type": "display_data"
    }
   ],
   "source": [
    "sns.lineplot(x='K', y='Total Time', hue='Method', data=data)\n",
    "plt.title(\"Test 3 - Total Time\")"
   ]
  },
  {
   "cell_type": "code",
   "execution_count": 29,
   "metadata": {},
   "outputs": [
    {
     "data": {
      "text/plain": [
       "Text(0.5, 1.0, 'Test 3 - Prediction Time')"
      ]
     },
     "execution_count": 29,
     "metadata": {},
     "output_type": "execute_result"
    },
    {
     "data": {
      "image/png": "[encoded data removed]",
      "text/plain": [
       "<Figure size 432x288 with 1 Axes>"
      ]
     },
     "metadata": {
      "needs_background": "light"
     },
     "output_type": "display_data"
    }
   ],
   "source": [
    "sns.lineplot(x='K', y='Pred Time', hue='Method', data=data)\n",
    "plt.title(\"Test 3 - Prediction Time\")"
   ]
  },
  {
   "cell_type": "code",
   "execution_count": null,
   "metadata": {},
   "outputs": [],
   "source": []
  },
  {
   "cell_type": "code",
   "execution_count": null,
   "metadata": {},
   "outputs": [],
   "source": []
  },
  {
   "cell_type": "code",
   "execution_count": null,
   "metadata": {},
   "outputs": [],
   "source": []
  },
  {
   "cell_type": "code",
   "execution_count": null,
   "metadata": {},
   "outputs": [],
   "source": []
  },
  {
   "cell_type": "code",
   "execution_count": null,
   "metadata": {},
   "outputs": [],
   "source": []
  }
 ],
 "metadata": {
  "kernelspec": {
   "display_name": "Python 3",
   "language": "python",
   "name": "python3"
  },
  "language_info": {
   "codemirror_mode": {
    "name": "ipython",
    "version": 3
   },
   "file_extension": ".py",
   "mimetype": "text/x-python",
   "name": "python",
   "nbconvert_exporter": "python",
   "pygments_lexer": "ipython3",
   "version": "3.7.7"
  }
 },
 "nbformat": 4,
 "nbformat_minor": 4
}
